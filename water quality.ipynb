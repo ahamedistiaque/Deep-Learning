{
 "cells": [
  {
   "cell_type": "code",
   "execution_count": 1,
   "id": "1d000150",
   "metadata": {},
   "outputs": [],
   "source": [
    "import pandas as pd"
   ]
  },
  {
   "cell_type": "code",
   "execution_count": 2,
   "id": "54eef6aa",
   "metadata": {},
   "outputs": [],
   "source": [
    "df = pd.read_csv('raw.githubusercontent.com_OmdenaAI_rwanda-chapter-water-quality-prediction_main_src_data_Synthetic_Data_Water_Quality.csv_token=GHSAT0AAAAAACDPMDQNJQY6HC4V722ZW3VCZEIDFVQ.csv')"
   ]
  },
  {
   "cell_type": "code",
   "execution_count": 3,
   "id": "c8dd34a6",
   "metadata": {},
   "outputs": [
    {
     "data": {
      "text/html": [
       "<div>\n",
       "<style scoped>\n",
       "    .dataframe tbody tr th:only-of-type {\n",
       "        vertical-align: middle;\n",
       "    }\n",
       "\n",
       "    .dataframe tbody tr th {\n",
       "        vertical-align: top;\n",
       "    }\n",
       "\n",
       "    .dataframe thead th {\n",
       "        text-align: right;\n",
       "    }\n",
       "</style>\n",
       "<table border=\"1\" class=\"dataframe\">\n",
       "  <thead>\n",
       "    <tr style=\"text-align: right;\">\n",
       "      <th></th>\n",
       "      <th>Colour (TCU)</th>\n",
       "      <th>Turbidity (NTU)</th>\n",
       "      <th>pH</th>\n",
       "      <th>Conductivity (uS/cm)</th>\n",
       "      <th>Total Dissolved Solids (mg/l)</th>\n",
       "      <th>Total Hardness (mg/l as CaCO3)</th>\n",
       "      <th>Aluminium (mg/l)</th>\n",
       "      <th>Chloride (mg/l)</th>\n",
       "      <th>Total Iron (mg/l)</th>\n",
       "      <th>Sodium (mg/l)</th>\n",
       "      <th>Sulphate (mg/l)</th>\n",
       "      <th>Zinc (mg/l)</th>\n",
       "      <th>Magnesium (mg/l)</th>\n",
       "      <th>Calcium (mg/l)</th>\n",
       "      <th>Potassium (mg/l)</th>\n",
       "      <th>Nitrate (mg/l)</th>\n",
       "      <th>Phosphate (mg/l)</th>\n",
       "      <th>Potability</th>\n",
       "    </tr>\n",
       "  </thead>\n",
       "  <tbody>\n",
       "    <tr>\n",
       "      <th>0</th>\n",
       "      <td>8.34</td>\n",
       "      <td>3.39</td>\n",
       "      <td>8.06</td>\n",
       "      <td>819.00</td>\n",
       "      <td>787.15</td>\n",
       "      <td>279.89</td>\n",
       "      <td>0.09</td>\n",
       "      <td>129.30</td>\n",
       "      <td>0.22</td>\n",
       "      <td>13.13</td>\n",
       "      <td>81.01</td>\n",
       "      <td>2.24</td>\n",
       "      <td>12.69</td>\n",
       "      <td>107.95</td>\n",
       "      <td>17.50</td>\n",
       "      <td>22.23</td>\n",
       "      <td>0.41</td>\n",
       "      <td>potable</td>\n",
       "    </tr>\n",
       "    <tr>\n",
       "      <th>1</th>\n",
       "      <td>14.45</td>\n",
       "      <td>3.36</td>\n",
       "      <td>8.28</td>\n",
       "      <td>1371.10</td>\n",
       "      <td>779.66</td>\n",
       "      <td>112.04</td>\n",
       "      <td>0.20</td>\n",
       "      <td>163.73</td>\n",
       "      <td>0.13</td>\n",
       "      <td>127.48</td>\n",
       "      <td>307.99</td>\n",
       "      <td>4.05</td>\n",
       "      <td>52.01</td>\n",
       "      <td>107.12</td>\n",
       "      <td>45.28</td>\n",
       "      <td>16.06</td>\n",
       "      <td>0.68</td>\n",
       "      <td>potable</td>\n",
       "    </tr>\n",
       "    <tr>\n",
       "      <th>2</th>\n",
       "      <td>3.87</td>\n",
       "      <td>4.23</td>\n",
       "      <td>6.86</td>\n",
       "      <td>202.75</td>\n",
       "      <td>485.10</td>\n",
       "      <td>113.17</td>\n",
       "      <td>0.15</td>\n",
       "      <td>66.68</td>\n",
       "      <td>0.29</td>\n",
       "      <td>142.97</td>\n",
       "      <td>16.70</td>\n",
       "      <td>0.86</td>\n",
       "      <td>88.47</td>\n",
       "      <td>127.47</td>\n",
       "      <td>4.90</td>\n",
       "      <td>19.81</td>\n",
       "      <td>0.91</td>\n",
       "      <td>potable</td>\n",
       "    </tr>\n",
       "    <tr>\n",
       "      <th>3</th>\n",
       "      <td>14.57</td>\n",
       "      <td>1.75</td>\n",
       "      <td>7.00</td>\n",
       "      <td>696.16</td>\n",
       "      <td>409.71</td>\n",
       "      <td>140.39</td>\n",
       "      <td>0.06</td>\n",
       "      <td>102.42</td>\n",
       "      <td>0.15</td>\n",
       "      <td>194.07</td>\n",
       "      <td>393.09</td>\n",
       "      <td>2.60</td>\n",
       "      <td>61.36</td>\n",
       "      <td>99.16</td>\n",
       "      <td>36.73</td>\n",
       "      <td>42.82</td>\n",
       "      <td>0.02</td>\n",
       "      <td>potable</td>\n",
       "    </tr>\n",
       "    <tr>\n",
       "      <th>4</th>\n",
       "      <td>9.01</td>\n",
       "      <td>2.20</td>\n",
       "      <td>6.73</td>\n",
       "      <td>129.24</td>\n",
       "      <td>343.55</td>\n",
       "      <td>6.52</td>\n",
       "      <td>0.07</td>\n",
       "      <td>140.47</td>\n",
       "      <td>0.28</td>\n",
       "      <td>3.77</td>\n",
       "      <td>170.65</td>\n",
       "      <td>0.04</td>\n",
       "      <td>47.22</td>\n",
       "      <td>107.17</td>\n",
       "      <td>44.79</td>\n",
       "      <td>14.35</td>\n",
       "      <td>2.08</td>\n",
       "      <td>potable</td>\n",
       "    </tr>\n",
       "    <tr>\n",
       "      <th>...</th>\n",
       "      <td>...</td>\n",
       "      <td>...</td>\n",
       "      <td>...</td>\n",
       "      <td>...</td>\n",
       "      <td>...</td>\n",
       "      <td>...</td>\n",
       "      <td>...</td>\n",
       "      <td>...</td>\n",
       "      <td>...</td>\n",
       "      <td>...</td>\n",
       "      <td>...</td>\n",
       "      <td>...</td>\n",
       "      <td>...</td>\n",
       "      <td>...</td>\n",
       "      <td>...</td>\n",
       "      <td>...</td>\n",
       "      <td>...</td>\n",
       "      <td>...</td>\n",
       "    </tr>\n",
       "    <tr>\n",
       "      <th>9995</th>\n",
       "      <td>27.64</td>\n",
       "      <td>9.46</td>\n",
       "      <td>0.09</td>\n",
       "      <td>2422.27</td>\n",
       "      <td>1147.04</td>\n",
       "      <td>521.18</td>\n",
       "      <td>0.24</td>\n",
       "      <td>362.50</td>\n",
       "      <td>0.41</td>\n",
       "      <td>283.40</td>\n",
       "      <td>438.94</td>\n",
       "      <td>9.88</td>\n",
       "      <td>112.00</td>\n",
       "      <td>258.93</td>\n",
       "      <td>70.92</td>\n",
       "      <td>81.10</td>\n",
       "      <td>3.09</td>\n",
       "      <td>non-potable</td>\n",
       "    </tr>\n",
       "    <tr>\n",
       "      <th>9996</th>\n",
       "      <td>25.58</td>\n",
       "      <td>8.61</td>\n",
       "      <td>4.39</td>\n",
       "      <td>1516.78</td>\n",
       "      <td>1604.78</td>\n",
       "      <td>429.84</td>\n",
       "      <td>0.33</td>\n",
       "      <td>394.23</td>\n",
       "      <td>0.55</td>\n",
       "      <td>303.78</td>\n",
       "      <td>556.85</td>\n",
       "      <td>8.87</td>\n",
       "      <td>122.23</td>\n",
       "      <td>284.79</td>\n",
       "      <td>76.31</td>\n",
       "      <td>79.69</td>\n",
       "      <td>2.48</td>\n",
       "      <td>non-potable</td>\n",
       "    </tr>\n",
       "    <tr>\n",
       "      <th>9997</th>\n",
       "      <td>19.40</td>\n",
       "      <td>8.16</td>\n",
       "      <td>3.05</td>\n",
       "      <td>2456.68</td>\n",
       "      <td>1439.54</td>\n",
       "      <td>483.23</td>\n",
       "      <td>0.40</td>\n",
       "      <td>348.95</td>\n",
       "      <td>0.48</td>\n",
       "      <td>229.37</td>\n",
       "      <td>690.85</td>\n",
       "      <td>6.67</td>\n",
       "      <td>136.61</td>\n",
       "      <td>198.87</td>\n",
       "      <td>68.99</td>\n",
       "      <td>53.38</td>\n",
       "      <td>3.37</td>\n",
       "      <td>non-potable</td>\n",
       "    </tr>\n",
       "    <tr>\n",
       "      <th>9998</th>\n",
       "      <td>18.73</td>\n",
       "      <td>5.03</td>\n",
       "      <td>9.35</td>\n",
       "      <td>1900.45</td>\n",
       "      <td>1092.84</td>\n",
       "      <td>458.86</td>\n",
       "      <td>0.28</td>\n",
       "      <td>289.98</td>\n",
       "      <td>0.52</td>\n",
       "      <td>310.67</td>\n",
       "      <td>564.05</td>\n",
       "      <td>7.22</td>\n",
       "      <td>108.37</td>\n",
       "      <td>260.68</td>\n",
       "      <td>82.73</td>\n",
       "      <td>83.58</td>\n",
       "      <td>2.78</td>\n",
       "      <td>non-potable</td>\n",
       "    </tr>\n",
       "    <tr>\n",
       "      <th>9999</th>\n",
       "      <td>27.30</td>\n",
       "      <td>8.66</td>\n",
       "      <td>9.22</td>\n",
       "      <td>2750.24</td>\n",
       "      <td>1058.46</td>\n",
       "      <td>492.12</td>\n",
       "      <td>0.35</td>\n",
       "      <td>283.16</td>\n",
       "      <td>0.59</td>\n",
       "      <td>247.13</td>\n",
       "      <td>423.96</td>\n",
       "      <td>8.42</td>\n",
       "      <td>149.07</td>\n",
       "      <td>266.26</td>\n",
       "      <td>87.11</td>\n",
       "      <td>51.96</td>\n",
       "      <td>4.11</td>\n",
       "      <td>non-potable</td>\n",
       "    </tr>\n",
       "  </tbody>\n",
       "</table>\n",
       "<p>10000 rows × 18 columns</p>\n",
       "</div>"
      ],
      "text/plain": [
       "      Colour (TCU)  Turbidity (NTU)    pH  Conductivity (uS/cm)  \\\n",
       "0             8.34             3.39  8.06                819.00   \n",
       "1            14.45             3.36  8.28               1371.10   \n",
       "2             3.87             4.23  6.86                202.75   \n",
       "3            14.57             1.75  7.00                696.16   \n",
       "4             9.01             2.20  6.73                129.24   \n",
       "...            ...              ...   ...                   ...   \n",
       "9995         27.64             9.46  0.09               2422.27   \n",
       "9996         25.58             8.61  4.39               1516.78   \n",
       "9997         19.40             8.16  3.05               2456.68   \n",
       "9998         18.73             5.03  9.35               1900.45   \n",
       "9999         27.30             8.66  9.22               2750.24   \n",
       "\n",
       "      Total Dissolved Solids (mg/l)  Total Hardness (mg/l as CaCO3)  \\\n",
       "0                            787.15                          279.89   \n",
       "1                            779.66                          112.04   \n",
       "2                            485.10                          113.17   \n",
       "3                            409.71                          140.39   \n",
       "4                            343.55                            6.52   \n",
       "...                             ...                             ...   \n",
       "9995                        1147.04                          521.18   \n",
       "9996                        1604.78                          429.84   \n",
       "9997                        1439.54                          483.23   \n",
       "9998                        1092.84                          458.86   \n",
       "9999                        1058.46                          492.12   \n",
       "\n",
       "      Aluminium (mg/l)  Chloride (mg/l)  Total Iron (mg/l)  Sodium (mg/l)  \\\n",
       "0                 0.09           129.30               0.22          13.13   \n",
       "1                 0.20           163.73               0.13         127.48   \n",
       "2                 0.15            66.68               0.29         142.97   \n",
       "3                 0.06           102.42               0.15         194.07   \n",
       "4                 0.07           140.47               0.28           3.77   \n",
       "...                ...              ...                ...            ...   \n",
       "9995              0.24           362.50               0.41         283.40   \n",
       "9996              0.33           394.23               0.55         303.78   \n",
       "9997              0.40           348.95               0.48         229.37   \n",
       "9998              0.28           289.98               0.52         310.67   \n",
       "9999              0.35           283.16               0.59         247.13   \n",
       "\n",
       "      Sulphate (mg/l)  Zinc (mg/l)  Magnesium (mg/l)  Calcium (mg/l)  \\\n",
       "0               81.01         2.24             12.69          107.95   \n",
       "1              307.99         4.05             52.01          107.12   \n",
       "2               16.70         0.86             88.47          127.47   \n",
       "3              393.09         2.60             61.36           99.16   \n",
       "4              170.65         0.04             47.22          107.17   \n",
       "...               ...          ...               ...             ...   \n",
       "9995           438.94         9.88            112.00          258.93   \n",
       "9996           556.85         8.87            122.23          284.79   \n",
       "9997           690.85         6.67            136.61          198.87   \n",
       "9998           564.05         7.22            108.37          260.68   \n",
       "9999           423.96         8.42            149.07          266.26   \n",
       "\n",
       "      Potassium (mg/l)  Nitrate (mg/l)  Phosphate (mg/l)   Potability  \n",
       "0                17.50           22.23              0.41      potable  \n",
       "1                45.28           16.06              0.68      potable  \n",
       "2                 4.90           19.81              0.91      potable  \n",
       "3                36.73           42.82              0.02      potable  \n",
       "4                44.79           14.35              2.08      potable  \n",
       "...                ...             ...               ...          ...  \n",
       "9995             70.92           81.10              3.09  non-potable  \n",
       "9996             76.31           79.69              2.48  non-potable  \n",
       "9997             68.99           53.38              3.37  non-potable  \n",
       "9998             82.73           83.58              2.78  non-potable  \n",
       "9999             87.11           51.96              4.11  non-potable  \n",
       "\n",
       "[10000 rows x 18 columns]"
      ]
     },
     "execution_count": 3,
     "metadata": {},
     "output_type": "execute_result"
    }
   ],
   "source": [
    "df"
   ]
  },
  {
   "cell_type": "code",
   "execution_count": 4,
   "id": "b1684d6b",
   "metadata": {},
   "outputs": [
    {
     "data": {
      "text/plain": [
       "potable        5000\n",
       "non-potable    5000\n",
       "Name: Potability, dtype: int64"
      ]
     },
     "execution_count": 4,
     "metadata": {},
     "output_type": "execute_result"
    }
   ],
   "source": [
    "df['Potability'].value_counts()"
   ]
  },
  {
   "cell_type": "code",
   "execution_count": 5,
   "id": "16c5f472",
   "metadata": {},
   "outputs": [],
   "source": [
    "from sklearn.preprocessing import LabelEncoder\n",
    "enc = LabelEncoder()"
   ]
  },
  {
   "cell_type": "code",
   "execution_count": 6,
   "id": "dce780a9",
   "metadata": {},
   "outputs": [],
   "source": [
    "df['Potability'] = enc.fit_transform(df['Potability'])"
   ]
  },
  {
   "cell_type": "code",
   "execution_count": 7,
   "id": "98cbb176",
   "metadata": {},
   "outputs": [],
   "source": [
    "y = df.iloc[:,-1]"
   ]
  },
  {
   "cell_type": "code",
   "execution_count": 8,
   "id": "18d58d00",
   "metadata": {},
   "outputs": [
    {
     "data": {
      "text/plain": [
       "0       1\n",
       "1       1\n",
       "2       1\n",
       "3       1\n",
       "4       1\n",
       "       ..\n",
       "9995    0\n",
       "9996    0\n",
       "9997    0\n",
       "9998    0\n",
       "9999    0\n",
       "Name: Potability, Length: 10000, dtype: int32"
      ]
     },
     "execution_count": 8,
     "metadata": {},
     "output_type": "execute_result"
    }
   ],
   "source": [
    "y"
   ]
  },
  {
   "cell_type": "code",
   "execution_count": 9,
   "id": "f1fcdcbc",
   "metadata": {},
   "outputs": [],
   "source": [
    "x = df.iloc[:,:-1]"
   ]
  },
  {
   "cell_type": "code",
   "execution_count": 10,
   "id": "2a55723b",
   "metadata": {},
   "outputs": [
    {
     "data": {
      "text/html": [
       "<div>\n",
       "<style scoped>\n",
       "    .dataframe tbody tr th:only-of-type {\n",
       "        vertical-align: middle;\n",
       "    }\n",
       "\n",
       "    .dataframe tbody tr th {\n",
       "        vertical-align: top;\n",
       "    }\n",
       "\n",
       "    .dataframe thead th {\n",
       "        text-align: right;\n",
       "    }\n",
       "</style>\n",
       "<table border=\"1\" class=\"dataframe\">\n",
       "  <thead>\n",
       "    <tr style=\"text-align: right;\">\n",
       "      <th></th>\n",
       "      <th>Colour (TCU)</th>\n",
       "      <th>Turbidity (NTU)</th>\n",
       "      <th>pH</th>\n",
       "      <th>Conductivity (uS/cm)</th>\n",
       "      <th>Total Dissolved Solids (mg/l)</th>\n",
       "      <th>Total Hardness (mg/l as CaCO3)</th>\n",
       "      <th>Aluminium (mg/l)</th>\n",
       "      <th>Chloride (mg/l)</th>\n",
       "      <th>Total Iron (mg/l)</th>\n",
       "      <th>Sodium (mg/l)</th>\n",
       "      <th>Sulphate (mg/l)</th>\n",
       "      <th>Zinc (mg/l)</th>\n",
       "      <th>Magnesium (mg/l)</th>\n",
       "      <th>Calcium (mg/l)</th>\n",
       "      <th>Potassium (mg/l)</th>\n",
       "      <th>Nitrate (mg/l)</th>\n",
       "      <th>Phosphate (mg/l)</th>\n",
       "    </tr>\n",
       "  </thead>\n",
       "  <tbody>\n",
       "    <tr>\n",
       "      <th>0</th>\n",
       "      <td>8.34</td>\n",
       "      <td>3.39</td>\n",
       "      <td>8.06</td>\n",
       "      <td>819.00</td>\n",
       "      <td>787.15</td>\n",
       "      <td>279.89</td>\n",
       "      <td>0.09</td>\n",
       "      <td>129.30</td>\n",
       "      <td>0.22</td>\n",
       "      <td>13.13</td>\n",
       "      <td>81.01</td>\n",
       "      <td>2.24</td>\n",
       "      <td>12.69</td>\n",
       "      <td>107.95</td>\n",
       "      <td>17.50</td>\n",
       "      <td>22.23</td>\n",
       "      <td>0.41</td>\n",
       "    </tr>\n",
       "    <tr>\n",
       "      <th>1</th>\n",
       "      <td>14.45</td>\n",
       "      <td>3.36</td>\n",
       "      <td>8.28</td>\n",
       "      <td>1371.10</td>\n",
       "      <td>779.66</td>\n",
       "      <td>112.04</td>\n",
       "      <td>0.20</td>\n",
       "      <td>163.73</td>\n",
       "      <td>0.13</td>\n",
       "      <td>127.48</td>\n",
       "      <td>307.99</td>\n",
       "      <td>4.05</td>\n",
       "      <td>52.01</td>\n",
       "      <td>107.12</td>\n",
       "      <td>45.28</td>\n",
       "      <td>16.06</td>\n",
       "      <td>0.68</td>\n",
       "    </tr>\n",
       "    <tr>\n",
       "      <th>2</th>\n",
       "      <td>3.87</td>\n",
       "      <td>4.23</td>\n",
       "      <td>6.86</td>\n",
       "      <td>202.75</td>\n",
       "      <td>485.10</td>\n",
       "      <td>113.17</td>\n",
       "      <td>0.15</td>\n",
       "      <td>66.68</td>\n",
       "      <td>0.29</td>\n",
       "      <td>142.97</td>\n",
       "      <td>16.70</td>\n",
       "      <td>0.86</td>\n",
       "      <td>88.47</td>\n",
       "      <td>127.47</td>\n",
       "      <td>4.90</td>\n",
       "      <td>19.81</td>\n",
       "      <td>0.91</td>\n",
       "    </tr>\n",
       "    <tr>\n",
       "      <th>3</th>\n",
       "      <td>14.57</td>\n",
       "      <td>1.75</td>\n",
       "      <td>7.00</td>\n",
       "      <td>696.16</td>\n",
       "      <td>409.71</td>\n",
       "      <td>140.39</td>\n",
       "      <td>0.06</td>\n",
       "      <td>102.42</td>\n",
       "      <td>0.15</td>\n",
       "      <td>194.07</td>\n",
       "      <td>393.09</td>\n",
       "      <td>2.60</td>\n",
       "      <td>61.36</td>\n",
       "      <td>99.16</td>\n",
       "      <td>36.73</td>\n",
       "      <td>42.82</td>\n",
       "      <td>0.02</td>\n",
       "    </tr>\n",
       "    <tr>\n",
       "      <th>4</th>\n",
       "      <td>9.01</td>\n",
       "      <td>2.20</td>\n",
       "      <td>6.73</td>\n",
       "      <td>129.24</td>\n",
       "      <td>343.55</td>\n",
       "      <td>6.52</td>\n",
       "      <td>0.07</td>\n",
       "      <td>140.47</td>\n",
       "      <td>0.28</td>\n",
       "      <td>3.77</td>\n",
       "      <td>170.65</td>\n",
       "      <td>0.04</td>\n",
       "      <td>47.22</td>\n",
       "      <td>107.17</td>\n",
       "      <td>44.79</td>\n",
       "      <td>14.35</td>\n",
       "      <td>2.08</td>\n",
       "    </tr>\n",
       "    <tr>\n",
       "      <th>...</th>\n",
       "      <td>...</td>\n",
       "      <td>...</td>\n",
       "      <td>...</td>\n",
       "      <td>...</td>\n",
       "      <td>...</td>\n",
       "      <td>...</td>\n",
       "      <td>...</td>\n",
       "      <td>...</td>\n",
       "      <td>...</td>\n",
       "      <td>...</td>\n",
       "      <td>...</td>\n",
       "      <td>...</td>\n",
       "      <td>...</td>\n",
       "      <td>...</td>\n",
       "      <td>...</td>\n",
       "      <td>...</td>\n",
       "      <td>...</td>\n",
       "    </tr>\n",
       "    <tr>\n",
       "      <th>9995</th>\n",
       "      <td>27.64</td>\n",
       "      <td>9.46</td>\n",
       "      <td>0.09</td>\n",
       "      <td>2422.27</td>\n",
       "      <td>1147.04</td>\n",
       "      <td>521.18</td>\n",
       "      <td>0.24</td>\n",
       "      <td>362.50</td>\n",
       "      <td>0.41</td>\n",
       "      <td>283.40</td>\n",
       "      <td>438.94</td>\n",
       "      <td>9.88</td>\n",
       "      <td>112.00</td>\n",
       "      <td>258.93</td>\n",
       "      <td>70.92</td>\n",
       "      <td>81.10</td>\n",
       "      <td>3.09</td>\n",
       "    </tr>\n",
       "    <tr>\n",
       "      <th>9996</th>\n",
       "      <td>25.58</td>\n",
       "      <td>8.61</td>\n",
       "      <td>4.39</td>\n",
       "      <td>1516.78</td>\n",
       "      <td>1604.78</td>\n",
       "      <td>429.84</td>\n",
       "      <td>0.33</td>\n",
       "      <td>394.23</td>\n",
       "      <td>0.55</td>\n",
       "      <td>303.78</td>\n",
       "      <td>556.85</td>\n",
       "      <td>8.87</td>\n",
       "      <td>122.23</td>\n",
       "      <td>284.79</td>\n",
       "      <td>76.31</td>\n",
       "      <td>79.69</td>\n",
       "      <td>2.48</td>\n",
       "    </tr>\n",
       "    <tr>\n",
       "      <th>9997</th>\n",
       "      <td>19.40</td>\n",
       "      <td>8.16</td>\n",
       "      <td>3.05</td>\n",
       "      <td>2456.68</td>\n",
       "      <td>1439.54</td>\n",
       "      <td>483.23</td>\n",
       "      <td>0.40</td>\n",
       "      <td>348.95</td>\n",
       "      <td>0.48</td>\n",
       "      <td>229.37</td>\n",
       "      <td>690.85</td>\n",
       "      <td>6.67</td>\n",
       "      <td>136.61</td>\n",
       "      <td>198.87</td>\n",
       "      <td>68.99</td>\n",
       "      <td>53.38</td>\n",
       "      <td>3.37</td>\n",
       "    </tr>\n",
       "    <tr>\n",
       "      <th>9998</th>\n",
       "      <td>18.73</td>\n",
       "      <td>5.03</td>\n",
       "      <td>9.35</td>\n",
       "      <td>1900.45</td>\n",
       "      <td>1092.84</td>\n",
       "      <td>458.86</td>\n",
       "      <td>0.28</td>\n",
       "      <td>289.98</td>\n",
       "      <td>0.52</td>\n",
       "      <td>310.67</td>\n",
       "      <td>564.05</td>\n",
       "      <td>7.22</td>\n",
       "      <td>108.37</td>\n",
       "      <td>260.68</td>\n",
       "      <td>82.73</td>\n",
       "      <td>83.58</td>\n",
       "      <td>2.78</td>\n",
       "    </tr>\n",
       "    <tr>\n",
       "      <th>9999</th>\n",
       "      <td>27.30</td>\n",
       "      <td>8.66</td>\n",
       "      <td>9.22</td>\n",
       "      <td>2750.24</td>\n",
       "      <td>1058.46</td>\n",
       "      <td>492.12</td>\n",
       "      <td>0.35</td>\n",
       "      <td>283.16</td>\n",
       "      <td>0.59</td>\n",
       "      <td>247.13</td>\n",
       "      <td>423.96</td>\n",
       "      <td>8.42</td>\n",
       "      <td>149.07</td>\n",
       "      <td>266.26</td>\n",
       "      <td>87.11</td>\n",
       "      <td>51.96</td>\n",
       "      <td>4.11</td>\n",
       "    </tr>\n",
       "  </tbody>\n",
       "</table>\n",
       "<p>10000 rows × 17 columns</p>\n",
       "</div>"
      ],
      "text/plain": [
       "      Colour (TCU)  Turbidity (NTU)    pH  Conductivity (uS/cm)  \\\n",
       "0             8.34             3.39  8.06                819.00   \n",
       "1            14.45             3.36  8.28               1371.10   \n",
       "2             3.87             4.23  6.86                202.75   \n",
       "3            14.57             1.75  7.00                696.16   \n",
       "4             9.01             2.20  6.73                129.24   \n",
       "...            ...              ...   ...                   ...   \n",
       "9995         27.64             9.46  0.09               2422.27   \n",
       "9996         25.58             8.61  4.39               1516.78   \n",
       "9997         19.40             8.16  3.05               2456.68   \n",
       "9998         18.73             5.03  9.35               1900.45   \n",
       "9999         27.30             8.66  9.22               2750.24   \n",
       "\n",
       "      Total Dissolved Solids (mg/l)  Total Hardness (mg/l as CaCO3)  \\\n",
       "0                            787.15                          279.89   \n",
       "1                            779.66                          112.04   \n",
       "2                            485.10                          113.17   \n",
       "3                            409.71                          140.39   \n",
       "4                            343.55                            6.52   \n",
       "...                             ...                             ...   \n",
       "9995                        1147.04                          521.18   \n",
       "9996                        1604.78                          429.84   \n",
       "9997                        1439.54                          483.23   \n",
       "9998                        1092.84                          458.86   \n",
       "9999                        1058.46                          492.12   \n",
       "\n",
       "      Aluminium (mg/l)  Chloride (mg/l)  Total Iron (mg/l)  Sodium (mg/l)  \\\n",
       "0                 0.09           129.30               0.22          13.13   \n",
       "1                 0.20           163.73               0.13         127.48   \n",
       "2                 0.15            66.68               0.29         142.97   \n",
       "3                 0.06           102.42               0.15         194.07   \n",
       "4                 0.07           140.47               0.28           3.77   \n",
       "...                ...              ...                ...            ...   \n",
       "9995              0.24           362.50               0.41         283.40   \n",
       "9996              0.33           394.23               0.55         303.78   \n",
       "9997              0.40           348.95               0.48         229.37   \n",
       "9998              0.28           289.98               0.52         310.67   \n",
       "9999              0.35           283.16               0.59         247.13   \n",
       "\n",
       "      Sulphate (mg/l)  Zinc (mg/l)  Magnesium (mg/l)  Calcium (mg/l)  \\\n",
       "0               81.01         2.24             12.69          107.95   \n",
       "1              307.99         4.05             52.01          107.12   \n",
       "2               16.70         0.86             88.47          127.47   \n",
       "3              393.09         2.60             61.36           99.16   \n",
       "4              170.65         0.04             47.22          107.17   \n",
       "...               ...          ...               ...             ...   \n",
       "9995           438.94         9.88            112.00          258.93   \n",
       "9996           556.85         8.87            122.23          284.79   \n",
       "9997           690.85         6.67            136.61          198.87   \n",
       "9998           564.05         7.22            108.37          260.68   \n",
       "9999           423.96         8.42            149.07          266.26   \n",
       "\n",
       "      Potassium (mg/l)  Nitrate (mg/l)  Phosphate (mg/l)  \n",
       "0                17.50           22.23              0.41  \n",
       "1                45.28           16.06              0.68  \n",
       "2                 4.90           19.81              0.91  \n",
       "3                36.73           42.82              0.02  \n",
       "4                44.79           14.35              2.08  \n",
       "...                ...             ...               ...  \n",
       "9995             70.92           81.10              3.09  \n",
       "9996             76.31           79.69              2.48  \n",
       "9997             68.99           53.38              3.37  \n",
       "9998             82.73           83.58              2.78  \n",
       "9999             87.11           51.96              4.11  \n",
       "\n",
       "[10000 rows x 17 columns]"
      ]
     },
     "execution_count": 10,
     "metadata": {},
     "output_type": "execute_result"
    }
   ],
   "source": [
    "x"
   ]
  },
  {
   "cell_type": "code",
   "execution_count": 11,
   "id": "3c26adf6",
   "metadata": {},
   "outputs": [],
   "source": [
    "from sklearn.model_selection import train_test_split"
   ]
  },
  {
   "cell_type": "code",
   "execution_count": 12,
   "id": "8b10d937",
   "metadata": {},
   "outputs": [],
   "source": [
    "x_train,x_test,y_train,y_test = train_test_split(x,y,random_state=0,test_size=0.2)"
   ]
  },
  {
   "cell_type": "code",
   "execution_count": 13,
   "id": "c5038193",
   "metadata": {},
   "outputs": [],
   "source": [
    "from sklearn.linear_model import LogisticRegression"
   ]
  },
  {
   "cell_type": "code",
   "execution_count": 14,
   "id": "97ea298c",
   "metadata": {},
   "outputs": [],
   "source": [
    "reg = LogisticRegression()"
   ]
  },
  {
   "cell_type": "code",
   "execution_count": 15,
   "id": "37aebf3f",
   "metadata": {},
   "outputs": [
    {
     "name": "stderr",
     "output_type": "stream",
     "text": [
      "C:\\Users\\ASUS\\anaconda3\\lib\\site-packages\\sklearn\\linear_model\\_logistic.py:458: ConvergenceWarning: lbfgs failed to converge (status=1):\n",
      "STOP: TOTAL NO. of ITERATIONS REACHED LIMIT.\n",
      "\n",
      "Increase the number of iterations (max_iter) or scale the data as shown in:\n",
      "    https://scikit-learn.org/stable/modules/preprocessing.html\n",
      "Please also refer to the documentation for alternative solver options:\n",
      "    https://scikit-learn.org/stable/modules/linear_model.html#logistic-regression\n",
      "  n_iter_i = _check_optimize_result(\n"
     ]
    },
    {
     "data": {
      "text/html": [
       "<style>#sk-container-id-1 {color: black;background-color: white;}#sk-container-id-1 pre{padding: 0;}#sk-container-id-1 div.sk-toggleable {background-color: white;}#sk-container-id-1 label.sk-toggleable__label {cursor: pointer;display: block;width: 100%;margin-bottom: 0;padding: 0.3em;box-sizing: border-box;text-align: center;}#sk-container-id-1 label.sk-toggleable__label-arrow:before {content: \"▸\";float: left;margin-right: 0.25em;color: #696969;}#sk-container-id-1 label.sk-toggleable__label-arrow:hover:before {color: black;}#sk-container-id-1 div.sk-estimator:hover label.sk-toggleable__label-arrow:before {color: black;}#sk-container-id-1 div.sk-toggleable__content {max-height: 0;max-width: 0;overflow: hidden;text-align: left;background-color: #f0f8ff;}#sk-container-id-1 div.sk-toggleable__content pre {margin: 0.2em;color: black;border-radius: 0.25em;background-color: #f0f8ff;}#sk-container-id-1 input.sk-toggleable__control:checked~div.sk-toggleable__content {max-height: 200px;max-width: 100%;overflow: auto;}#sk-container-id-1 input.sk-toggleable__control:checked~label.sk-toggleable__label-arrow:before {content: \"▾\";}#sk-container-id-1 div.sk-estimator input.sk-toggleable__control:checked~label.sk-toggleable__label {background-color: #d4ebff;}#sk-container-id-1 div.sk-label input.sk-toggleable__control:checked~label.sk-toggleable__label {background-color: #d4ebff;}#sk-container-id-1 input.sk-hidden--visually {border: 0;clip: rect(1px 1px 1px 1px);clip: rect(1px, 1px, 1px, 1px);height: 1px;margin: -1px;overflow: hidden;padding: 0;position: absolute;width: 1px;}#sk-container-id-1 div.sk-estimator {font-family: monospace;background-color: #f0f8ff;border: 1px dotted black;border-radius: 0.25em;box-sizing: border-box;margin-bottom: 0.5em;}#sk-container-id-1 div.sk-estimator:hover {background-color: #d4ebff;}#sk-container-id-1 div.sk-parallel-item::after {content: \"\";width: 100%;border-bottom: 1px solid gray;flex-grow: 1;}#sk-container-id-1 div.sk-label:hover label.sk-toggleable__label {background-color: #d4ebff;}#sk-container-id-1 div.sk-serial::before {content: \"\";position: absolute;border-left: 1px solid gray;box-sizing: border-box;top: 0;bottom: 0;left: 50%;z-index: 0;}#sk-container-id-1 div.sk-serial {display: flex;flex-direction: column;align-items: center;background-color: white;padding-right: 0.2em;padding-left: 0.2em;position: relative;}#sk-container-id-1 div.sk-item {position: relative;z-index: 1;}#sk-container-id-1 div.sk-parallel {display: flex;align-items: stretch;justify-content: center;background-color: white;position: relative;}#sk-container-id-1 div.sk-item::before, #sk-container-id-1 div.sk-parallel-item::before {content: \"\";position: absolute;border-left: 1px solid gray;box-sizing: border-box;top: 0;bottom: 0;left: 50%;z-index: -1;}#sk-container-id-1 div.sk-parallel-item {display: flex;flex-direction: column;z-index: 1;position: relative;background-color: white;}#sk-container-id-1 div.sk-parallel-item:first-child::after {align-self: flex-end;width: 50%;}#sk-container-id-1 div.sk-parallel-item:last-child::after {align-self: flex-start;width: 50%;}#sk-container-id-1 div.sk-parallel-item:only-child::after {width: 0;}#sk-container-id-1 div.sk-dashed-wrapped {border: 1px dashed gray;margin: 0 0.4em 0.5em 0.4em;box-sizing: border-box;padding-bottom: 0.4em;background-color: white;}#sk-container-id-1 div.sk-label label {font-family: monospace;font-weight: bold;display: inline-block;line-height: 1.2em;}#sk-container-id-1 div.sk-label-container {text-align: center;}#sk-container-id-1 div.sk-container {/* jupyter's `normalize.less` sets `[hidden] { display: none; }` but bootstrap.min.css set `[hidden] { display: none !important; }` so we also need the `!important` here to be able to override the default hidden behavior on the sphinx rendered scikit-learn.org. See: https://github.com/scikit-learn/scikit-learn/issues/21755 */display: inline-block !important;position: relative;}#sk-container-id-1 div.sk-text-repr-fallback {display: none;}</style><div id=\"sk-container-id-1\" class=\"sk-top-container\"><div class=\"sk-text-repr-fallback\"><pre>LogisticRegression()</pre><b>In a Jupyter environment, please rerun this cell to show the HTML representation or trust the notebook. <br />On GitHub, the HTML representation is unable to render, please try loading this page with nbviewer.org.</b></div><div class=\"sk-container\" hidden><div class=\"sk-item\"><div class=\"sk-estimator sk-toggleable\"><input class=\"sk-toggleable__control sk-hidden--visually\" id=\"sk-estimator-id-1\" type=\"checkbox\" checked><label for=\"sk-estimator-id-1\" class=\"sk-toggleable__label sk-toggleable__label-arrow\">LogisticRegression</label><div class=\"sk-toggleable__content\"><pre>LogisticRegression()</pre></div></div></div></div></div>"
      ],
      "text/plain": [
       "LogisticRegression()"
      ]
     },
     "execution_count": 15,
     "metadata": {},
     "output_type": "execute_result"
    }
   ],
   "source": [
    "reg.fit(x_train,y_train)"
   ]
  },
  {
   "cell_type": "code",
   "execution_count": 16,
   "id": "699d95f7",
   "metadata": {},
   "outputs": [],
   "source": [
    "y_pred = reg.predict(x_test)"
   ]
  },
  {
   "cell_type": "code",
   "execution_count": 17,
   "id": "0dda7d4a",
   "metadata": {},
   "outputs": [],
   "source": [
    "from sklearn.metrics import accuracy_score"
   ]
  },
  {
   "cell_type": "code",
   "execution_count": 18,
   "id": "16fd0c90",
   "metadata": {},
   "outputs": [
    {
     "data": {
      "text/plain": [
       "0.9935"
      ]
     },
     "execution_count": 18,
     "metadata": {},
     "output_type": "execute_result"
    }
   ],
   "source": [
    "accuracy_score(y_pred,y_test)"
   ]
  },
  {
   "cell_type": "code",
   "execution_count": 19,
   "id": "09f3943d",
   "metadata": {},
   "outputs": [],
   "source": [
    "from sklearn.metrics import precision_score,classification_report"
   ]
  },
  {
   "cell_type": "code",
   "execution_count": 20,
   "id": "26f72655",
   "metadata": {},
   "outputs": [
    {
     "data": {
      "text/plain": [
       "0.9878542510121457"
      ]
     },
     "execution_count": 20,
     "metadata": {},
     "output_type": "execute_result"
    }
   ],
   "source": [
    "precision_score(y_pred,y_test)"
   ]
  },
  {
   "cell_type": "code",
   "execution_count": 21,
   "id": "21df823c",
   "metadata": {},
   "outputs": [],
   "source": [
    "import matplotlib.pyplot as plt"
   ]
  },
  {
   "cell_type": "code",
   "execution_count": 22,
   "id": "ff807af5",
   "metadata": {},
   "outputs": [],
   "source": [
    "from sklearn.metrics import confusion_matrix"
   ]
  },
  {
   "cell_type": "code",
   "execution_count": 23,
   "id": "b37a5a13",
   "metadata": {},
   "outputs": [
    {
     "data": {
      "text/plain": [
       "array([[1011,    1],\n",
       "       [  12,  976]], dtype=int64)"
      ]
     },
     "execution_count": 23,
     "metadata": {},
     "output_type": "execute_result"
    }
   ],
   "source": [
    "confusion_matrix(y_test,y_pred)"
   ]
  },
  {
   "cell_type": "code",
   "execution_count": 24,
   "id": "71b93637",
   "metadata": {},
   "outputs": [],
   "source": [
    "from sklearn.tree import DecisionTreeClassifier"
   ]
  },
  {
   "cell_type": "code",
   "execution_count": 25,
   "id": "ea6d70a3",
   "metadata": {},
   "outputs": [],
   "source": [
    "dtc = DecisionTreeClassifier()"
   ]
  },
  {
   "cell_type": "code",
   "execution_count": 26,
   "id": "38936f6d",
   "metadata": {},
   "outputs": [
    {
     "data": {
      "text/html": [
       "<style>#sk-container-id-2 {color: black;background-color: white;}#sk-container-id-2 pre{padding: 0;}#sk-container-id-2 div.sk-toggleable {background-color: white;}#sk-container-id-2 label.sk-toggleable__label {cursor: pointer;display: block;width: 100%;margin-bottom: 0;padding: 0.3em;box-sizing: border-box;text-align: center;}#sk-container-id-2 label.sk-toggleable__label-arrow:before {content: \"▸\";float: left;margin-right: 0.25em;color: #696969;}#sk-container-id-2 label.sk-toggleable__label-arrow:hover:before {color: black;}#sk-container-id-2 div.sk-estimator:hover label.sk-toggleable__label-arrow:before {color: black;}#sk-container-id-2 div.sk-toggleable__content {max-height: 0;max-width: 0;overflow: hidden;text-align: left;background-color: #f0f8ff;}#sk-container-id-2 div.sk-toggleable__content pre {margin: 0.2em;color: black;border-radius: 0.25em;background-color: #f0f8ff;}#sk-container-id-2 input.sk-toggleable__control:checked~div.sk-toggleable__content {max-height: 200px;max-width: 100%;overflow: auto;}#sk-container-id-2 input.sk-toggleable__control:checked~label.sk-toggleable__label-arrow:before {content: \"▾\";}#sk-container-id-2 div.sk-estimator input.sk-toggleable__control:checked~label.sk-toggleable__label {background-color: #d4ebff;}#sk-container-id-2 div.sk-label input.sk-toggleable__control:checked~label.sk-toggleable__label {background-color: #d4ebff;}#sk-container-id-2 input.sk-hidden--visually {border: 0;clip: rect(1px 1px 1px 1px);clip: rect(1px, 1px, 1px, 1px);height: 1px;margin: -1px;overflow: hidden;padding: 0;position: absolute;width: 1px;}#sk-container-id-2 div.sk-estimator {font-family: monospace;background-color: #f0f8ff;border: 1px dotted black;border-radius: 0.25em;box-sizing: border-box;margin-bottom: 0.5em;}#sk-container-id-2 div.sk-estimator:hover {background-color: #d4ebff;}#sk-container-id-2 div.sk-parallel-item::after {content: \"\";width: 100%;border-bottom: 1px solid gray;flex-grow: 1;}#sk-container-id-2 div.sk-label:hover label.sk-toggleable__label {background-color: #d4ebff;}#sk-container-id-2 div.sk-serial::before {content: \"\";position: absolute;border-left: 1px solid gray;box-sizing: border-box;top: 0;bottom: 0;left: 50%;z-index: 0;}#sk-container-id-2 div.sk-serial {display: flex;flex-direction: column;align-items: center;background-color: white;padding-right: 0.2em;padding-left: 0.2em;position: relative;}#sk-container-id-2 div.sk-item {position: relative;z-index: 1;}#sk-container-id-2 div.sk-parallel {display: flex;align-items: stretch;justify-content: center;background-color: white;position: relative;}#sk-container-id-2 div.sk-item::before, #sk-container-id-2 div.sk-parallel-item::before {content: \"\";position: absolute;border-left: 1px solid gray;box-sizing: border-box;top: 0;bottom: 0;left: 50%;z-index: -1;}#sk-container-id-2 div.sk-parallel-item {display: flex;flex-direction: column;z-index: 1;position: relative;background-color: white;}#sk-container-id-2 div.sk-parallel-item:first-child::after {align-self: flex-end;width: 50%;}#sk-container-id-2 div.sk-parallel-item:last-child::after {align-self: flex-start;width: 50%;}#sk-container-id-2 div.sk-parallel-item:only-child::after {width: 0;}#sk-container-id-2 div.sk-dashed-wrapped {border: 1px dashed gray;margin: 0 0.4em 0.5em 0.4em;box-sizing: border-box;padding-bottom: 0.4em;background-color: white;}#sk-container-id-2 div.sk-label label {font-family: monospace;font-weight: bold;display: inline-block;line-height: 1.2em;}#sk-container-id-2 div.sk-label-container {text-align: center;}#sk-container-id-2 div.sk-container {/* jupyter's `normalize.less` sets `[hidden] { display: none; }` but bootstrap.min.css set `[hidden] { display: none !important; }` so we also need the `!important` here to be able to override the default hidden behavior on the sphinx rendered scikit-learn.org. See: https://github.com/scikit-learn/scikit-learn/issues/21755 */display: inline-block !important;position: relative;}#sk-container-id-2 div.sk-text-repr-fallback {display: none;}</style><div id=\"sk-container-id-2\" class=\"sk-top-container\"><div class=\"sk-text-repr-fallback\"><pre>DecisionTreeClassifier()</pre><b>In a Jupyter environment, please rerun this cell to show the HTML representation or trust the notebook. <br />On GitHub, the HTML representation is unable to render, please try loading this page with nbviewer.org.</b></div><div class=\"sk-container\" hidden><div class=\"sk-item\"><div class=\"sk-estimator sk-toggleable\"><input class=\"sk-toggleable__control sk-hidden--visually\" id=\"sk-estimator-id-2\" type=\"checkbox\" checked><label for=\"sk-estimator-id-2\" class=\"sk-toggleable__label sk-toggleable__label-arrow\">DecisionTreeClassifier</label><div class=\"sk-toggleable__content\"><pre>DecisionTreeClassifier()</pre></div></div></div></div></div>"
      ],
      "text/plain": [
       "DecisionTreeClassifier()"
      ]
     },
     "execution_count": 26,
     "metadata": {},
     "output_type": "execute_result"
    }
   ],
   "source": [
    "dtc.fit(x_train,y_train)"
   ]
  },
  {
   "cell_type": "code",
   "execution_count": 27,
   "id": "ca1d51c4",
   "metadata": {},
   "outputs": [],
   "source": [
    "y_pred = dtc.predict(x_test)"
   ]
  },
  {
   "cell_type": "code",
   "execution_count": 28,
   "id": "ebbe3642",
   "metadata": {},
   "outputs": [
    {
     "data": {
      "text/plain": [
       "1.0"
      ]
     },
     "execution_count": 28,
     "metadata": {},
     "output_type": "execute_result"
    }
   ],
   "source": [
    "accuracy_score(y_test,y_pred)"
   ]
  },
  {
   "cell_type": "code",
   "execution_count": 29,
   "id": "06fbebb5",
   "metadata": {},
   "outputs": [
    {
     "data": {
      "text/plain": [
       "1.0"
      ]
     },
     "execution_count": 29,
     "metadata": {},
     "output_type": "execute_result"
    }
   ],
   "source": [
    "dtc.score(x_train,y_train)"
   ]
  },
  {
   "cell_type": "code",
   "execution_count": 30,
   "id": "2eaff020",
   "metadata": {},
   "outputs": [
    {
     "data": {
      "text/plain": [
       "1.0"
      ]
     },
     "execution_count": 30,
     "metadata": {},
     "output_type": "execute_result"
    }
   ],
   "source": [
    "dtc.score(x_test,y_test)"
   ]
  },
  {
   "cell_type": "code",
   "execution_count": 31,
   "id": "5e6781f3",
   "metadata": {},
   "outputs": [
    {
     "data": {
      "text/plain": [
       "1.0"
      ]
     },
     "execution_count": 31,
     "metadata": {},
     "output_type": "execute_result"
    }
   ],
   "source": [
    "precision_score(y_test,y_pred)"
   ]
  },
  {
   "cell_type": "code",
   "execution_count": null,
   "id": "ff6581d8",
   "metadata": {},
   "outputs": [],
   "source": []
  },
  {
   "cell_type": "code",
   "execution_count": 32,
   "id": "1a9250b1",
   "metadata": {},
   "outputs": [],
   "source": [
    "report1 = classification_report(y_pred, y_test, digits=4)\n"
   ]
  },
  {
   "cell_type": "code",
   "execution_count": 33,
   "id": "776403a3",
   "metadata": {},
   "outputs": [
    {
     "name": "stdout",
     "output_type": "stream",
     "text": [
      "              precision    recall  f1-score   support\n",
      "\n",
      "           0     1.0000    1.0000    1.0000      1012\n",
      "           1     1.0000    1.0000    1.0000       988\n",
      "\n",
      "    accuracy                         1.0000      2000\n",
      "   macro avg     1.0000    1.0000    1.0000      2000\n",
      "weighted avg     1.0000    1.0000    1.0000      2000\n",
      "\n"
     ]
    }
   ],
   "source": [
    "print(report1)"
   ]
  },
  {
   "cell_type": "code",
   "execution_count": 34,
   "id": "43f63b3e",
   "metadata": {},
   "outputs": [],
   "source": [
    "from sklearn.model_selection import learning_curve\n",
    "import numpy as np"
   ]
  },
  {
   "cell_type": "code",
   "execution_count": 35,
   "id": "4ed973fa",
   "metadata": {},
   "outputs": [
    {
     "data": {
      "image/png": "[encoded data removed]",
      "text/plain": [
       "<Figure size 1000x1000 with 1 Axes>"
      ]
     },
     "metadata": {},
     "output_type": "display_data"
    }
   ],
   "source": [
    "train_sizes, train_scores, valid_scores = learning_curve(\n",
    "dtc, x, y, train_sizes=np.linspace(0.05, 1.0, 30), cv=5,\n",
    ")\n",
    "train_mean = np.mean(train_scores,axis=1)\n",
    "test_mean = np.mean(valid_scores,axis=1)\n",
    "plt.subplots(1,figsize=(10,10))\n",
    "plt.plot(train_sizes, train_mean, \"r-+\", linewidth=2, label=\"train\")\n",
    "plt.plot(train_sizes, test_mean, \"b-\", linewidth=3, label=\"valid\")\n",
    "plt.legend()\n",
    "\n",
    "plt.show()"
   ]
  },
  {
   "cell_type": "code",
   "execution_count": null,
   "id": "08f4068e",
   "metadata": {},
   "outputs": [],
   "source": []
  }
 ],
 "metadata": {
  "kernelspec": {
   "display_name": "Python 3 (ipykernel)",
   "language": "python",
   "name": "python3"
  },
  "language_info": {
   "codemirror_mode": {
    "name": "ipython",
    "version": 3
   },
   "file_extension": ".py",
   "mimetype": "text/x-python",
   "name": "python",
   "nbconvert_exporter": "python",
   "pygments_lexer": "ipython3",
   "version": "3.9.13"
  }
 },
 "nbformat": 4,
 "nbformat_minor": 5
}
